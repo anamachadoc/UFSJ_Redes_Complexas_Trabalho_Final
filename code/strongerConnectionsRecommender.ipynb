{
 "cells": [
  {
   "cell_type": "code",
   "execution_count": 1,
   "metadata": {},
   "outputs": [],
   "source": [
    "import pandas as pd\n",
    "import sys\n",
    "from collections import Counter\n",
    "from tqdm import tqdm\n",
    "\n",
    "recommenders_path = 'Recommenders'\n",
    "sys.path.append(recommenders_path)\n",
    "\n",
    "graphs_path = 'Graphs'\n",
    "sys.path.append(graphs_path)\n",
    "\n",
    "spotify_path = 'Spotify'\n",
    "sys.path.append(spotify_path)\n",
    "\n",
    "graphics_path = 'Graphics'\n",
    "sys.path.append(graphics_path)\n",
    "\n",
    "from Recommenders.StrongerConnectionsRecommender import StrongerConnectionsRecommender\n",
    "from Graphs.SimpleGraph import SimpleGraph\n",
    "from Graphics.Graphics import Graphics"
   ]
  },
  {
   "cell_type": "code",
   "execution_count": 2,
   "metadata": {},
   "outputs": [
    {
     "data": {
      "text/html": [
       "<div>\n",
       "<style scoped>\n",
       "    .dataframe tbody tr th:only-of-type {\n",
       "        vertical-align: middle;\n",
       "    }\n",
       "\n",
       "    .dataframe tbody tr th {\n",
       "        vertical-align: top;\n",
       "    }\n",
       "\n",
       "    .dataframe thead th {\n",
       "        text-align: right;\n",
       "    }\n",
       "</style>\n",
       "<table border=\"1\" class=\"dataframe\">\n",
       "  <thead>\n",
       "    <tr style=\"text-align: right;\">\n",
       "      <th></th>\n",
       "      <th>external_urls</th>\n",
       "      <th>followers</th>\n",
       "      <th>genres</th>\n",
       "      <th>id</th>\n",
       "      <th>name</th>\n",
       "      <th>popularity</th>\n",
       "      <th>uri</th>\n",
       "      <th>related_artists_ids</th>\n",
       "    </tr>\n",
       "  </thead>\n",
       "  <tbody>\n",
       "    <tr>\n",
       "      <th>0</th>\n",
       "      <td>https://open.spotify.com/artist/4dpARuHxo51G3z...</td>\n",
       "      <td>57657211</td>\n",
       "      <td>british soul, pop, pop soul, uk pop</td>\n",
       "      <td>4dpARuHxo51G3z768sgnrY</td>\n",
       "      <td>Adele</td>\n",
       "      <td>86</td>\n",
       "      <td>spotify:artist:4dpARuHxo51G3z768sgnrY</td>\n",
       "      <td>5WUlDfRSoLAfcVSX1WnrxN, 2wY79sveU1sp5g7SokKOiI...</td>\n",
       "    </tr>\n",
       "    <tr>\n",
       "      <th>1</th>\n",
       "      <td>https://open.spotify.com/artist/66CXWjxzNUsdJx...</td>\n",
       "      <td>98814719</td>\n",
       "      <td>pop</td>\n",
       "      <td>66CXWjxzNUsdJxJ2JdwvnR</td>\n",
       "      <td>Ariana Grande</td>\n",
       "      <td>91</td>\n",
       "      <td>spotify:artist:66CXWjxzNUsdJxJ2JdwvnR</td>\n",
       "      <td>4nDoRrQiYLoBzwC5BhVJzF, 0C8ZW7ezQVs4URX5aX7Kqx...</td>\n",
       "    </tr>\n",
       "    <tr>\n",
       "      <th>2</th>\n",
       "      <td>https://open.spotify.com/artist/13ubrt8QOOCPlj...</td>\n",
       "      <td>14722549</td>\n",
       "      <td>east coast hip hop, hip hop, rap</td>\n",
       "      <td>13ubrt8QOOCPljQ2FL1Kca</td>\n",
       "      <td>A$AP Rocky</td>\n",
       "      <td>84</td>\n",
       "      <td>spotify:artist:13ubrt8QOOCPljQ2FL1Kca</td>\n",
       "      <td>5dHt1vcEm9qb8fCyLcB3HL, 2P5sC9cVZDToPxyomzF1UH...</td>\n",
       "    </tr>\n",
       "    <tr>\n",
       "      <th>3</th>\n",
       "      <td>https://open.spotify.com/artist/06HL4z0CvFAxyc...</td>\n",
       "      <td>118971229</td>\n",
       "      <td>pop</td>\n",
       "      <td>06HL4z0CvFAxyc27GXpf02</td>\n",
       "      <td>Taylor Swift</td>\n",
       "      <td>100</td>\n",
       "      <td>spotify:artist:06HL4z0CvFAxyc27GXpf02</td>\n",
       "      <td>0C8ZW7ezQVs4URX5aX7Kqx, 1McMsnEElThX1knmY4oliG...</td>\n",
       "    </tr>\n",
       "    <tr>\n",
       "      <th>4</th>\n",
       "      <td>https://open.spotify.com/artist/7Ln80lUS6He07X...</td>\n",
       "      <td>25991892</td>\n",
       "      <td>garage rock, modern rock, permanent wave, rock...</td>\n",
       "      <td>7Ln80lUS6He07XvHI8qqHH</td>\n",
       "      <td>Arctic Monkeys</td>\n",
       "      <td>85</td>\n",
       "      <td>spotify:artist:7Ln80lUS6He07XvHI8qqHH</td>\n",
       "      <td>77SW9BnxLY8rJ0RciFqkHh, 0epOFNiUfyON9EYx7Tpr6V...</td>\n",
       "    </tr>\n",
       "    <tr>\n",
       "      <th>...</th>\n",
       "      <td>...</td>\n",
       "      <td>...</td>\n",
       "      <td>...</td>\n",
       "      <td>...</td>\n",
       "      <td>...</td>\n",
       "      <td>...</td>\n",
       "      <td>...</td>\n",
       "      <td>...</td>\n",
       "    </tr>\n",
       "    <tr>\n",
       "      <th>14783</th>\n",
       "      <td>https://open.spotify.com/artist/7EyzyrMNgqiK8b...</td>\n",
       "      <td>1417807</td>\n",
       "      <td>rap mineiro</td>\n",
       "      <td>7EyzyrMNgqiK8bMrbkOT9l</td>\n",
       "      <td>Sidoka</td>\n",
       "      <td>59</td>\n",
       "      <td>spotify:artist:7EyzyrMNgqiK8bMrbkOT9l</td>\n",
       "      <td>4oPnjkJcLqOim9KJxvIYMz, 1QBWA6tuiZ0JuDluPqbe71...</td>\n",
       "    </tr>\n",
       "    <tr>\n",
       "      <th>14784</th>\n",
       "      <td>https://open.spotify.com/artist/6gzXCdfYfFe5XK...</td>\n",
       "      <td>2313438</td>\n",
       "      <td>k-pop, k-pop boy group</td>\n",
       "      <td>6gzXCdfYfFe5XKhPKkYqxV</td>\n",
       "      <td>SUPER JUNIOR</td>\n",
       "      <td>58</td>\n",
       "      <td>spotify:artist:6gzXCdfYfFe5XKhPKkYqxV</td>\n",
       "      <td>6nVMMEywS5Y4tsHPKx1nIo, 1bkpTEmumLC3xc7HgMsttU...</td>\n",
       "    </tr>\n",
       "    <tr>\n",
       "      <th>14785</th>\n",
       "      <td>https://open.spotify.com/artist/7AAXcP4NpvvLM9...</td>\n",
       "      <td>609413</td>\n",
       "      <td>sertanejo, sertanejo universitario</td>\n",
       "      <td>7AAXcP4NpvvLM9Xcfy64ij</td>\n",
       "      <td>Hugo Pena &amp; Gabriel</td>\n",
       "      <td>40</td>\n",
       "      <td>spotify:artist:7AAXcP4NpvvLM9Xcfy64ij</td>\n",
       "      <td>5Dyg6H3QJHQV5c7ojyKWyv, 4ZUahcHoVxr4lsrfdmhjhV...</td>\n",
       "    </tr>\n",
       "    <tr>\n",
       "      <th>14786</th>\n",
       "      <td>https://open.spotify.com/artist/5KvkOKroKLz202...</td>\n",
       "      <td>186296</td>\n",
       "      <td>folk metal, german metal, melodic death metal,...</td>\n",
       "      <td>5KvkOKroKLz202ioXfGWR2</td>\n",
       "      <td>Equilibrium</td>\n",
       "      <td>49</td>\n",
       "      <td>spotify:artist:5KvkOKroKLz202ioXfGWR2</td>\n",
       "      <td>3t5X2CVDf5mrlIx1SdvWYM</td>\n",
       "    </tr>\n",
       "    <tr>\n",
       "      <th>14787</th>\n",
       "      <td>https://open.spotify.com/artist/3OpWOvjJnk86ge...</td>\n",
       "      <td>194506</td>\n",
       "      <td>acoustic guitar cover, fingerstyle, viral pop</td>\n",
       "      <td>3OpWOvjJnk86geCHrAxkHA</td>\n",
       "      <td>Sungha Jung</td>\n",
       "      <td>43</td>\n",
       "      <td>spotify:artist:3OpWOvjJnk86geCHrAxkHA</td>\n",
       "      <td>0fauHpmSHwodVYIjTqOGHz, 6HjfVflhYjbu6PSIsFOjwM...</td>\n",
       "    </tr>\n",
       "  </tbody>\n",
       "</table>\n",
       "<p>14788 rows × 8 columns</p>\n",
       "</div>"
      ],
      "text/plain": [
       "                                           external_urls  followers  \\\n",
       "0      https://open.spotify.com/artist/4dpARuHxo51G3z...   57657211   \n",
       "1      https://open.spotify.com/artist/66CXWjxzNUsdJx...   98814719   \n",
       "2      https://open.spotify.com/artist/13ubrt8QOOCPlj...   14722549   \n",
       "3      https://open.spotify.com/artist/06HL4z0CvFAxyc...  118971229   \n",
       "4      https://open.spotify.com/artist/7Ln80lUS6He07X...   25991892   \n",
       "...                                                  ...        ...   \n",
       "14783  https://open.spotify.com/artist/7EyzyrMNgqiK8b...    1417807   \n",
       "14784  https://open.spotify.com/artist/6gzXCdfYfFe5XK...    2313438   \n",
       "14785  https://open.spotify.com/artist/7AAXcP4NpvvLM9...     609413   \n",
       "14786  https://open.spotify.com/artist/5KvkOKroKLz202...     186296   \n",
       "14787  https://open.spotify.com/artist/3OpWOvjJnk86ge...     194506   \n",
       "\n",
       "                                                  genres  \\\n",
       "0                    british soul, pop, pop soul, uk pop   \n",
       "1                                                    pop   \n",
       "2                       east coast hip hop, hip hop, rap   \n",
       "3                                                    pop   \n",
       "4      garage rock, modern rock, permanent wave, rock...   \n",
       "...                                                  ...   \n",
       "14783                                        rap mineiro   \n",
       "14784                             k-pop, k-pop boy group   \n",
       "14785                 sertanejo, sertanejo universitario   \n",
       "14786  folk metal, german metal, melodic death metal,...   \n",
       "14787      acoustic guitar cover, fingerstyle, viral pop   \n",
       "\n",
       "                           id                 name  popularity  \\\n",
       "0      4dpARuHxo51G3z768sgnrY                Adele          86   \n",
       "1      66CXWjxzNUsdJxJ2JdwvnR        Ariana Grande          91   \n",
       "2      13ubrt8QOOCPljQ2FL1Kca           A$AP Rocky          84   \n",
       "3      06HL4z0CvFAxyc27GXpf02         Taylor Swift         100   \n",
       "4      7Ln80lUS6He07XvHI8qqHH       Arctic Monkeys          85   \n",
       "...                       ...                  ...         ...   \n",
       "14783  7EyzyrMNgqiK8bMrbkOT9l               Sidoka          59   \n",
       "14784  6gzXCdfYfFe5XKhPKkYqxV         SUPER JUNIOR          58   \n",
       "14785  7AAXcP4NpvvLM9Xcfy64ij  Hugo Pena & Gabriel          40   \n",
       "14786  5KvkOKroKLz202ioXfGWR2          Equilibrium          49   \n",
       "14787  3OpWOvjJnk86geCHrAxkHA          Sungha Jung          43   \n",
       "\n",
       "                                         uri  \\\n",
       "0      spotify:artist:4dpARuHxo51G3z768sgnrY   \n",
       "1      spotify:artist:66CXWjxzNUsdJxJ2JdwvnR   \n",
       "2      spotify:artist:13ubrt8QOOCPljQ2FL1Kca   \n",
       "3      spotify:artist:06HL4z0CvFAxyc27GXpf02   \n",
       "4      spotify:artist:7Ln80lUS6He07XvHI8qqHH   \n",
       "...                                      ...   \n",
       "14783  spotify:artist:7EyzyrMNgqiK8bMrbkOT9l   \n",
       "14784  spotify:artist:6gzXCdfYfFe5XKhPKkYqxV   \n",
       "14785  spotify:artist:7AAXcP4NpvvLM9Xcfy64ij   \n",
       "14786  spotify:artist:5KvkOKroKLz202ioXfGWR2   \n",
       "14787  spotify:artist:3OpWOvjJnk86geCHrAxkHA   \n",
       "\n",
       "                                     related_artists_ids  \n",
       "0      5WUlDfRSoLAfcVSX1WnrxN, 2wY79sveU1sp5g7SokKOiI...  \n",
       "1      4nDoRrQiYLoBzwC5BhVJzF, 0C8ZW7ezQVs4URX5aX7Kqx...  \n",
       "2      5dHt1vcEm9qb8fCyLcB3HL, 2P5sC9cVZDToPxyomzF1UH...  \n",
       "3      0C8ZW7ezQVs4URX5aX7Kqx, 1McMsnEElThX1knmY4oliG...  \n",
       "4      77SW9BnxLY8rJ0RciFqkHh, 0epOFNiUfyON9EYx7Tpr6V...  \n",
       "...                                                  ...  \n",
       "14783  4oPnjkJcLqOim9KJxvIYMz, 1QBWA6tuiZ0JuDluPqbe71...  \n",
       "14784  6nVMMEywS5Y4tsHPKx1nIo, 1bkpTEmumLC3xc7HgMsttU...  \n",
       "14785  5Dyg6H3QJHQV5c7ojyKWyv, 4ZUahcHoVxr4lsrfdmhjhV...  \n",
       "14786                             3t5X2CVDf5mrlIx1SdvWYM  \n",
       "14787  0fauHpmSHwodVYIjTqOGHz, 6HjfVflhYjbu6PSIsFOjwM...  \n",
       "\n",
       "[14788 rows x 8 columns]"
      ]
     },
     "execution_count": 2,
     "metadata": {},
     "output_type": "execute_result"
    }
   ],
   "source": [
    "df = pd.read_csv('../data/spotify_artists.csv')\n",
    "df"
   ]
  },
  {
   "cell_type": "code",
   "execution_count": 3,
   "metadata": {},
   "outputs": [],
   "source": [
    "artists_ids = {}\n",
    "for i in range(len(df)):\n",
    "    artists_ids[df['id'][i]] = df['name'][i]"
   ]
  },
  {
   "cell_type": "code",
   "execution_count": 4,
   "metadata": {},
   "outputs": [],
   "source": [
    "genres = {}\n",
    "for index in range(len(df)):\n",
    "    for genre_artist in df['genres'][index].split(', '):\n",
    "        if genre_artist not in genres: genres[genre_artist] = []\n",
    "        genres[genre_artist].append(df['id'][index])"
   ]
  },
  {
   "cell_type": "code",
   "execution_count": 5,
   "metadata": {},
   "outputs": [],
   "source": [
    "connections = []\n",
    "for genre in genres:\n",
    "    for i in range(len(genres[genre])):\n",
    "        for j in range(i+1, len(genres[genre])):\n",
    "           artist_1, artist_2 = (genres[genre][i], genres[genre][j]) if genres[genre][i] < genres[genre][j] else (genres[genre][j], genres[genre][i])\n",
    "           connections.append((artist_1, artist_2))"
   ]
  },
  {
   "cell_type": "code",
   "execution_count": 6,
   "metadata": {},
   "outputs": [],
   "source": [
    "counter = Counter(connections)\n",
    "edges = []\n",
    "for artists, weight in counter.items():\n",
    "    artist_1, artist_2 = artists\n",
    "    edges.append((artist_1, artist_2, weight))"
   ]
  },
  {
   "cell_type": "code",
   "execution_count": 7,
   "metadata": {},
   "outputs": [],
   "source": [
    "G = SimpleGraph()\n",
    "artists_nodes = [(df['id'][index], dict(popularity=int(df['popularity'][index]), name=str(df['name'][index]), genre=str(df['genres'][index].split(', ')[0]))) for index in range(len(df['id']))]\n",
    "G.add_nodes(artists_nodes)\n",
    "G.add_edges(edges)\n",
    "name_network = 'stronger_connections_recommender'"
   ]
  },
  {
   "cell_type": "markdown",
   "metadata": {},
   "source": [
    "## **Analisando a rede**"
   ]
  },
  {
   "cell_type": "markdown",
   "metadata": {},
   "source": [
    "### **Informações báiscas**"
   ]
  },
  {
   "cell_type": "code",
   "execution_count": 8,
   "metadata": {},
   "outputs": [
    {
     "name": "stdout",
     "output_type": "stream",
     "text": [
      "Quantidade de vértices: 14788\n",
      "Quantidade de arestas: 774610\n",
      "Quantidade de componentes: 118\n",
      "Menor grau da rede: 1\n",
      "Maior grau da rede: 768\n",
      "Grau médio da rede: 104.76196916418718\n",
      "Densidade da rede: 0.0070847345076206925\n"
     ]
    }
   ],
   "source": [
    "print(f'Quantidade de vértices: {G.get_number_of_nodes()}')\n",
    "print(f'Quantidade de arestas: {G.get_number_of_edges()}')\n",
    "print(f'Quantidade de componentes: {G.get_number_connected_components()}')\n",
    "print(f'Menor grau da rede: {G.get_minimum_degree()}')\n",
    "print(f'Maior grau da rede: {G.get_maximum_degree()}')\n",
    "print(f'Grau médio da rede: {G.get_average_degree()}')\n",
    "print(f'Densidade da rede: {G.get_density()}')\n",
    "#print(f'Distância média: {G.average_shortest_path_length()}')\n",
    "#average_clustering_coefficient, percentage_of_considered_nodes = G.get_average_clustering_coefficient()\n",
    "#print(f'Coeficiente de clustering médio: {average_clustering_coefficient} (apenas {percentage_of_considered_nodes:.2%} da rede foi considerada no cálculo, que que possuem grau maior do que um)')"
   ]
  },
  {
   "cell_type": "code",
   "execution_count": 9,
   "metadata": {},
   "outputs": [
    {
     "data": {
      "text/plain": [
       "\"import os \\n\\nedges_list = [(a, b) for a, b, _ in edges]\\n\\ndf = pd.DataFrame(edges_list)\\n\\ndf.to_csv(f'gephi_edges_list.csv', index=False, header=False)\""
      ]
     },
     "execution_count": 9,
     "metadata": {},
     "output_type": "execute_result"
    }
   ],
   "source": [
    "'''import os \n",
    "\n",
    "edges_list = [(a, b) for a, b, _ in edges]\n",
    "\n",
    "df = pd.DataFrame(edges_list)\n",
    "\n",
    "df.to_csv(f'gephi_edges_list.csv', index=False, header=False)'''"
   ]
  },
  {
   "cell_type": "markdown",
   "metadata": {},
   "source": [
    "### **Distribuição de graus**"
   ]
  },
  {
   "cell_type": "code",
   "execution_count": 10,
   "metadata": {},
   "outputs": [
    {
     "data": {
      "image/png": "[encoded data removed]",
      "text/plain": [
       "<Figure size 1200x400 with 2 Axes>"
      ]
     },
     "metadata": {},
     "output_type": "display_data"
    }
   ],
   "source": [
    "frequencies_of_degrees, probability_of_degrees, accumulated_probability_of_degress = G.get_degree_distribution()\n",
    "#Graphics.create_graphic_degrees(data = frequencies_of_degrees, xLabel = 'Grau (K)', yLabel = 'Frequência', title = 'Frequência dos Graus', limit = 5, lines = False, name_network = name_network)\n",
    "#Graphics.create_graphic_degrees(data = probability_of_degrees, xLabel = 'Grau (K)', yLabel = 'P(k)', title = 'Probabilidade dos Graus', limit = 0.01, lines = False,  name_network = name_network)\n",
    "Graphics.create_graphic_degrees(data = accumulated_probability_of_degress, xLabel = 'Grau (k)', yLabel = 'P(>=K)', title = 'Função de Distribuição Cumulativa Complementar', limit = 0.05, lines = True,  name_network = name_network)"
   ]
  },
  {
   "cell_type": "markdown",
   "metadata": {},
   "source": [
    "### **Centralidades**"
   ]
  },
  {
   "cell_type": "markdown",
   "metadata": {},
   "source": [
    "#### **Centralidade por Grau**"
   ]
  },
  {
   "cell_type": "code",
   "execution_count": 11,
   "metadata": {},
   "outputs": [],
   "source": [
    "#degree_centrality=G.get_degree_centrality()\n",
    "#analysis_centrality=Graphics.create_graphic_centrality(data=degree_centrality, title='Centralidade por Grau', name_network=name_network)\n",
    "#Graphics.create_ranking_centrality(centrality=degree_centrality, graph=G, title='Centralidade por Grau - Rede Completa - Ranking', name_network=name_network, label='genre')"
   ]
  },
  {
   "cell_type": "code",
   "execution_count": 12,
   "metadata": {},
   "outputs": [],
   "source": [
    "#eigenvector_centrality=G.get_eigenvector_centrality(weight='weight')\n",
    "#analysis_centrality=Graphics.create_graphic_centrality(data=eigenvector_centrality, title='Centralidade por Autovetor', name_network=name_network)\n",
    "#Graphics.create_ranking_centrality(centrality=eigenvector_centrality, graph=G, title='Centralidade por Autovetor - Ranking', name_network=name_network)"
   ]
  },
  {
   "cell_type": "markdown",
   "metadata": {},
   "source": [
    "### **Comunidades**"
   ]
  },
  {
   "cell_type": "code",
   "execution_count": 13,
   "metadata": {},
   "outputs": [],
   "source": [
    "#louvain_communities = G.get_louvain_communities(weight='weight')"
   ]
  },
  {
   "cell_type": "code",
   "execution_count": 14,
   "metadata": {},
   "outputs": [],
   "source": [
    "#sorted_louvain_communities = sorted(louvain_communities, key=len, reverse=True)"
   ]
  },
  {
   "cell_type": "code",
   "execution_count": 15,
   "metadata": {},
   "outputs": [],
   "source": [
    "#for index, community in enumerate(sorted_louvain_communities):\n",
    "#    print(f'Comunidade {index+1:2}', end=' ')\n",
    "#    community_list = []\n",
    "#    for artist_id in community:\n",
    "#        community_list.append(G.graph.nodes[artist_id]['name'])\n",
    "#    print(f'({len(community_list):4}): ', community_list)\n",
    "#    if len(community_list) == 1: print(G.get_degree(artist_id))"
   ]
  },
  {
   "cell_type": "code",
   "execution_count": 16,
   "metadata": {},
   "outputs": [
    {
     "data": {
      "text/plain": [
       "'for number in range(1):\\n    edges_community_aux = []\\n    nodes_community = list(sorted_louvain_communities[number])\\n    for i in range(len(nodes_community)):\\n        for j in range(i+1, len(nodes_community)):\\n           if G.graph.has_edge(nodes_community[i], nodes_community[j]) or G.graph.has_edge(nodes_community[j], nodes_community[i]):    \\n              artist_1, artist_2 = (nodes_community[i], nodes_community[j]) if nodes_community[i] < nodes_community[j] else (nodes_community[j], nodes_community[i])\\n              edges_community_aux.append((artist_1, artist_2))\\n    counter = Counter(edges_community_aux)\\n    edges_community = []\\n    for artists, weight in counter.items():\\n        artist_1, artist_2 = artists\\n        edges_community.append((artist_1, artist_2, weight))'"
      ]
     },
     "execution_count": 16,
     "metadata": {},
     "output_type": "execute_result"
    }
   ],
   "source": [
    "'''for number in range(1):\n",
    "    edges_community_aux = []\n",
    "    nodes_community = list(sorted_louvain_communities[number])\n",
    "    for i in range(len(nodes_community)):\n",
    "        for j in range(i+1, len(nodes_community)):\n",
    "           if G.graph.has_edge(nodes_community[i], nodes_community[j]) or G.graph.has_edge(nodes_community[j], nodes_community[i]):    \n",
    "              artist_1, artist_2 = (nodes_community[i], nodes_community[j]) if nodes_community[i] < nodes_community[j] else (nodes_community[j], nodes_community[i])\n",
    "              edges_community_aux.append((artist_1, artist_2))\n",
    "    counter = Counter(edges_community_aux)\n",
    "    edges_community = []\n",
    "    for artists, weight in counter.items():\n",
    "        artist_1, artist_2 = artists\n",
    "        edges_community.append((artist_1, artist_2, weight))'''"
   ]
  },
  {
   "cell_type": "code",
   "execution_count": 17,
   "metadata": {},
   "outputs": [
    {
     "data": {
      "text/plain": [
       "\"number = 51\\nedges_community_aux = []\\nnodes_community = list(sorted_louvain_communities[number])\\nfor i in range(len(nodes_community)):\\n    for j in range(i+1, len(nodes_community)):\\n        if G.graph.has_edge(nodes_community[i], nodes_community[j]) or G.graph.has_edge(nodes_community[j], nodes_community[i]):    \\n            artist_1, artist_2 = (nodes_community[i], nodes_community[j]) if nodes_community[i] < nodes_community[j] else (nodes_community[j], nodes_community[i])\\n            edges_community_aux.append((artist_1, artist_2))\\n    counter = Counter(edges_community_aux)\\n    edges_community = []\\n    for artists, weight in counter.items():\\n        if weight != 1: print('a')\\n        artist_1, artist_2 = artists\\n        edges_community.append((artist_1, artist_2, weight))\""
      ]
     },
     "execution_count": 17,
     "metadata": {},
     "output_type": "execute_result"
    }
   ],
   "source": [
    "'''number = 51\n",
    "edges_community_aux = []\n",
    "nodes_community = list(sorted_louvain_communities[number])\n",
    "for i in range(len(nodes_community)):\n",
    "    for j in range(i+1, len(nodes_community)):\n",
    "        if G.graph.has_edge(nodes_community[i], nodes_community[j]) or G.graph.has_edge(nodes_community[j], nodes_community[i]):    \n",
    "            artist_1, artist_2 = (nodes_community[i], nodes_community[j]) if nodes_community[i] < nodes_community[j] else (nodes_community[j], nodes_community[i])\n",
    "            edges_community_aux.append((artist_1, artist_2))\n",
    "    counter = Counter(edges_community_aux)\n",
    "    edges_community = []\n",
    "    for artists, weight in counter.items():\n",
    "        if weight != 1: print('a')\n",
    "        artist_1, artist_2 = artists\n",
    "        edges_community.append((artist_1, artist_2, weight))'''"
   ]
  },
  {
   "cell_type": "code",
   "execution_count": 18,
   "metadata": {},
   "outputs": [
    {
     "data": {
      "text/plain": [
       "\"G_community = SimpleGraph()\\nartists_nodes = [(df['id'][int(df[df['id'] == node].index[0])], dict(popularity=int(df['popularity'][int(df[df['id'] == node].index[0])]), name=str(df['name'][int(df[df['id'] == node].index[0])]), genre=str(df['genres'][int(df[df['id'] == node].index[0])].split(', ')[0]))) for node in nodes_community]\\nG_community.add_nodes(artists_nodes)\\nG_community.add_edges(edges_community)\\nprint(G_community.get_number_of_nodes())\\nprint(G_community.get_number_of_edges())\""
      ]
     },
     "execution_count": 18,
     "metadata": {},
     "output_type": "execute_result"
    }
   ],
   "source": [
    "'''G_community = SimpleGraph()\n",
    "artists_nodes = [(df['id'][int(df[df['id'] == node].index[0])], dict(popularity=int(df['popularity'][int(df[df['id'] == node].index[0])]), name=str(df['name'][int(df[df['id'] == node].index[0])]), genre=str(df['genres'][int(df[df['id'] == node].index[0])].split(', ')[0]))) for node in nodes_community]\n",
    "G_community.add_nodes(artists_nodes)\n",
    "G_community.add_edges(edges_community)\n",
    "print(G_community.get_number_of_nodes())\n",
    "print(G_community.get_number_of_edges())'''"
   ]
  },
  {
   "cell_type": "code",
   "execution_count": 19,
   "metadata": {},
   "outputs": [
    {
     "data": {
      "text/plain": [
       "\"for a in G_community.graph.edges():\\n    a1, a2 = a\\n    print(df['name'][int(df[df['id'] == a1].index[0])], ',',df['name'][int(df[df['id'] == a2].index[0])])\""
      ]
     },
     "execution_count": 19,
     "metadata": {},
     "output_type": "execute_result"
    }
   ],
   "source": [
    "'''for a in G_community.graph.edges():\n",
    "    a1, a2 = a\n",
    "    print(df['name'][int(df[df['id'] == a1].index[0])], ',',df['name'][int(df[df['id'] == a2].index[0])])'''"
   ]
  },
  {
   "cell_type": "code",
   "execution_count": 20,
   "metadata": {},
   "outputs": [
    {
     "data": {
      "text/plain": [
       "\"'degree_centrality=G_community.get_degree_centrality()\\nanalysis_centrality=Graphics.create_graphic_centrality(data=degree_centrality, title=f'Centralidade por Grau - Comunidade de Música Brasileira', name_network=name_network)\\nGraphics.create_ranking_centrality(centrality=degree_centrality, graph=G_community, title=f'Centralidade por Grau - Comunidade DE Música Brasileira - Ranking', name_network=name_network, label='genre')\""
      ]
     },
     "execution_count": 20,
     "metadata": {},
     "output_type": "execute_result"
    }
   ],
   "source": [
    "''''degree_centrality=G_community.get_degree_centrality()\n",
    "analysis_centrality=Graphics.create_graphic_centrality(data=degree_centrality, title=f'Centralidade por Grau - Comunidade de Música Brasileira', name_network=name_network)\n",
    "Graphics.create_ranking_centrality(centrality=degree_centrality, graph=G_community, title=f'Centralidade por Grau - Comunidade DE Música Brasileira - Ranking', name_network=name_network, label='genre')'''"
   ]
  },
  {
   "cell_type": "code",
   "execution_count": 21,
   "metadata": {},
   "outputs": [
    {
     "data": {
      "text/plain": [
       "\"eigenvector_centrality=G_community.get_eigenvector_centrality(weight='weight')\\nanalysis_centrality=Graphics.create_graphic_centrality(data=eigenvector_centrality, title=f'Centralidade por Autovetor - Comunidade {number}', name_network=name_network)\\nGraphics.create_ranking_centrality(centrality=eigenvector_centrality, graph=G_community, title=f'Centralidade por Autovetor - Comunidade {number} - Ranking', name_network=name_network, label='genre')\""
      ]
     },
     "execution_count": 21,
     "metadata": {},
     "output_type": "execute_result"
    }
   ],
   "source": [
    "'''eigenvector_centrality=G_community.get_eigenvector_centrality(weight='weight')\n",
    "analysis_centrality=Graphics.create_graphic_centrality(data=eigenvector_centrality, title=f'Centralidade por Autovetor - Comunidade {number}', name_network=name_network)\n",
    "Graphics.create_ranking_centrality(centrality=eigenvector_centrality, graph=G_community, title=f'Centralidade por Autovetor - Comunidade {number} - Ranking', name_network=name_network, label='genre')'''"
   ]
  },
  {
   "cell_type": "code",
   "execution_count": 22,
   "metadata": {},
   "outputs": [
    {
     "data": {
      "text/plain": [
       "\"eigenvector_centrality=G_community.get_eigenvector_centrality()\\nanalysis_centrality=Graphics.create_graphic_centrality(data=eigenvector_centrality, title=f'Centralidade por Autovetor - Comunidade {number}', name_network=name_network)\\nGraphics.create_ranking_centrality(centrality=eigenvector_centrality, graph=G_community, title=f'Centralidade por Autovetor - Comunidade {number} - Ranking', name_network=name_network)\""
      ]
     },
     "execution_count": 22,
     "metadata": {},
     "output_type": "execute_result"
    }
   ],
   "source": [
    "'''eigenvector_centrality=G_community.get_eigenvector_centrality()\n",
    "analysis_centrality=Graphics.create_graphic_centrality(data=eigenvector_centrality, title=f'Centralidade por Autovetor - Comunidade {number}', name_network=name_network)\n",
    "Graphics.create_ranking_centrality(centrality=eigenvector_centrality, graph=G_community, title=f'Centralidade por Autovetor - Comunidade {number} - Ranking', name_network=name_network)'''"
   ]
  },
  {
   "cell_type": "markdown",
   "metadata": {},
   "source": [
    "## **Recomendador**"
   ]
  },
  {
   "cell_type": "code",
   "execution_count": 34,
   "metadata": {},
   "outputs": [
    {
     "name": "stderr",
     "output_type": "stream",
     "text": [
      "100%|██████████| 14788/14788 [00:04<00:00, 3554.63it/s]\n"
     ]
    }
   ],
   "source": [
    "analysis = {}\n",
    "counter_nan=0\n",
    "for index in tqdm(range(len(df))):\n",
    "    if type(df['related_artists_ids'][index]) == float: \n",
    "        counter_nan+=1\n",
    "        continue\n",
    "\n",
    "    related_artists_ids = df['related_artists_ids'][index].split(', ')\n",
    "    number_recommendations = len(related_artists_ids)\n",
    "\n",
    "    recommender = StrongerConnectionsRecommender(G, number_recommendations)\n",
    "    recommended_artists = recommender.make_recommendations(df['id'][index], collaborations=False)\n",
    "\n",
    "    #if len(recommended_artists) == number_recommendations:\n",
    "    counter=0\n",
    "    for artist_id in recommended_artists:\n",
    "        if artist_id in related_artists_ids:\n",
    "            counter+=1\n",
    "    analysis[df['id'][index]] =  counter/len(recommended_artists) "
   ]
  },
  {
   "cell_type": "code",
   "execution_count": 24,
   "metadata": {},
   "outputs": [
    {
     "data": {
      "text/plain": [
       "14788"
      ]
     },
     "execution_count": 24,
     "metadata": {},
     "output_type": "execute_result"
    }
   ],
   "source": [
    "len(df)"
   ]
  },
  {
   "cell_type": "code",
   "execution_count": 25,
   "metadata": {},
   "outputs": [
    {
     "data": {
      "text/plain": [
       "1228"
      ]
     },
     "execution_count": 25,
     "metadata": {},
     "output_type": "execute_result"
    }
   ],
   "source": [
    "counter_nan # quantidade de nan"
   ]
  },
  {
   "cell_type": "code",
   "execution_count": 26,
   "metadata": {},
   "outputs": [
    {
     "data": {
      "text/plain": [
       "13560"
      ]
     },
     "execution_count": 26,
     "metadata": {},
     "output_type": "execute_result"
    }
   ],
   "source": [
    "len(analysis) # quantidade total que pegamos"
   ]
  },
  {
   "cell_type": "code",
   "execution_count": 27,
   "metadata": {},
   "outputs": [
    {
     "data": {
      "text/plain": [
       "0"
      ]
     },
     "execution_count": 27,
     "metadata": {},
     "output_type": "execute_result"
    }
   ],
   "source": [
    "len(df) - (len(analysis) + counter_nan) # quantidade que n consegumis pegar igual"
   ]
  },
  {
   "cell_type": "code",
   "execution_count": 35,
   "metadata": {},
   "outputs": [
    {
     "name": "stdout",
     "output_type": "stream",
     "text": [
      "0.17889635311940458\n"
     ]
    }
   ],
   "source": [
    "total_correct_mean = sum(analysis.values())/len(analysis.values())\n",
    "print(total_correct_mean)"
   ]
  },
  {
   "cell_type": "code",
   "execution_count": 29,
   "metadata": {},
   "outputs": [
    {
     "data": {
      "text/plain": [
       "13560"
      ]
     },
     "execution_count": 29,
     "metadata": {},
     "output_type": "execute_result"
    }
   ],
   "source": [
    "len(analysis)"
   ]
  },
  {
   "cell_type": "code",
   "execution_count": 30,
   "metadata": {},
   "outputs": [
    {
     "data": {
      "text/plain": [
       "\"analysis = {}\\nfor index in tqdm(range(len(df))):\\n    if type(df['related_artists_ids'][index]) == float: continue\\n\\n    related_artists_ids = df['related_artists_ids'][index].split(', ')\\n    number_recommendations = len(related_artists_ids)\\n    recommender = StrongerConnectionsRecommender(G, number_recommendations)\\n    recommended_artists = recommender.make_recommendations(df['id'][index], collaborations=True)\\n\\n    if len(recommended_artists) == number_recommendations:\\n        counter=0\\n        for artist_id in related_artists_ids:\\n            if artist_id in recommended_artists:\\n                counter+=1\\n        analysis[df['id'][index]] =  counter/number_recommendations\""
      ]
     },
     "execution_count": 30,
     "metadata": {},
     "output_type": "execute_result"
    }
   ],
   "source": [
    "'''analysis = {}\n",
    "for index in tqdm(range(len(df))):\n",
    "    if type(df['related_artists_ids'][index]) == float: continue\n",
    "\n",
    "    related_artists_ids = df['related_artists_ids'][index].split(', ')\n",
    "    number_recommendations = len(related_artists_ids)\n",
    "    recommender = StrongerConnectionsRecommender(G, number_recommendations)\n",
    "    recommended_artists = recommender.make_recommendations(df['id'][index], collaborations=True)\n",
    "\n",
    "    if len(recommended_artists) == number_recommendations:\n",
    "        counter=0\n",
    "        for artist_id in related_artists_ids:\n",
    "            if artist_id in recommended_artists:\n",
    "                counter+=1\n",
    "        analysis[df['id'][index]] =  counter/number_recommendations'''"
   ]
  },
  {
   "cell_type": "code",
   "execution_count": 31,
   "metadata": {},
   "outputs": [
    {
     "data": {
      "text/plain": [
       "'total_correct_mean = sum(analysis.values())/len(analysis.values())\\nprint(total_correct_mean)'"
      ]
     },
     "execution_count": 31,
     "metadata": {},
     "output_type": "execute_result"
    }
   ],
   "source": [
    "'''total_correct_mean = sum(analysis.values())/len(analysis.values())\n",
    "print(total_correct_mean)'''"
   ]
  },
  {
   "cell_type": "code",
   "execution_count": 32,
   "metadata": {},
   "outputs": [
    {
     "data": {
      "text/plain": [
       "'recommender.convert_recommendations(artist_id, artists_ids)'"
      ]
     },
     "execution_count": 32,
     "metadata": {},
     "output_type": "execute_result"
    }
   ],
   "source": [
    "'''recommender.convert_recommendations(artist_id, artists_ids)'''"
   ]
  },
  {
   "cell_type": "code",
   "execution_count": 33,
   "metadata": {},
   "outputs": [
    {
     "data": {
      "text/plain": [
       "'recommender.make_recommendations(artist_id, collaborations=True)\\nrecommender.convert_recommendations(artist_id, artists_ids)'"
      ]
     },
     "execution_count": 33,
     "metadata": {},
     "output_type": "execute_result"
    }
   ],
   "source": [
    "'''recommender.make_recommendations(artist_id, collaborations=True)\n",
    "recommender.convert_recommendations(artist_id, artists_ids)'''"
   ]
  }
 ],
 "metadata": {
  "kernelspec": {
   "display_name": "Python 3",
   "language": "python",
   "name": "python3"
  },
  "language_info": {
   "codemirror_mode": {
    "name": "ipython",
    "version": 3
   },
   "file_extension": ".py",
   "mimetype": "text/x-python",
   "name": "python",
   "nbconvert_exporter": "python",
   "pygments_lexer": "ipython3",
   "version": "3.10.12"
  }
 },
 "nbformat": 4,
 "nbformat_minor": 2
}

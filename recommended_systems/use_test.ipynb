{
 "cells": [
  {
   "cell_type": "code",
   "execution_count": 1,
   "metadata": {},
   "outputs": [],
   "source": [
    "import pandas as pd"
   ]
  },
  {
   "cell_type": "code",
   "execution_count": 2,
   "metadata": {},
   "outputs": [
    {
     "data": {
      "text/html": [
       "<div>\n",
       "<style scoped>\n",
       "    .dataframe tbody tr th:only-of-type {\n",
       "        vertical-align: middle;\n",
       "    }\n",
       "\n",
       "    .dataframe tbody tr th {\n",
       "        vertical-align: top;\n",
       "    }\n",
       "\n",
       "    .dataframe thead th {\n",
       "        text-align: right;\n",
       "    }\n",
       "</style>\n",
       "<table border=\"1\" class=\"dataframe\">\n",
       "  <thead>\n",
       "    <tr style=\"text-align: right;\">\n",
       "      <th></th>\n",
       "      <th>external_urls</th>\n",
       "      <th>followers</th>\n",
       "      <th>genres</th>\n",
       "      <th>id</th>\n",
       "      <th>name</th>\n",
       "      <th>popularity</th>\n",
       "      <th>uri</th>\n",
       "    </tr>\n",
       "  </thead>\n",
       "  <tbody>\n",
       "    <tr>\n",
       "      <th>0</th>\n",
       "      <td>https://open.spotify.com/artist/4dpARuHxo51G3z...</td>\n",
       "      <td>57657211</td>\n",
       "      <td>british soul, pop, pop soul, uk pop</td>\n",
       "      <td>4dpARuHxo51G3z768sgnrY</td>\n",
       "      <td>Adele</td>\n",
       "      <td>86</td>\n",
       "      <td>spotify:artist:4dpARuHxo51G3z768sgnrY</td>\n",
       "    </tr>\n",
       "    <tr>\n",
       "      <th>1</th>\n",
       "      <td>https://open.spotify.com/artist/66CXWjxzNUsdJx...</td>\n",
       "      <td>98814719</td>\n",
       "      <td>pop</td>\n",
       "      <td>66CXWjxzNUsdJxJ2JdwvnR</td>\n",
       "      <td>Ariana Grande</td>\n",
       "      <td>91</td>\n",
       "      <td>spotify:artist:66CXWjxzNUsdJxJ2JdwvnR</td>\n",
       "    </tr>\n",
       "    <tr>\n",
       "      <th>2</th>\n",
       "      <td>https://open.spotify.com/artist/13ubrt8QOOCPlj...</td>\n",
       "      <td>14722549</td>\n",
       "      <td>east coast hip hop, hip hop, rap</td>\n",
       "      <td>13ubrt8QOOCPljQ2FL1Kca</td>\n",
       "      <td>A$AP Rocky</td>\n",
       "      <td>84</td>\n",
       "      <td>spotify:artist:13ubrt8QOOCPljQ2FL1Kca</td>\n",
       "    </tr>\n",
       "    <tr>\n",
       "      <th>3</th>\n",
       "      <td>https://open.spotify.com/artist/06HL4z0CvFAxyc...</td>\n",
       "      <td>118971229</td>\n",
       "      <td>pop</td>\n",
       "      <td>06HL4z0CvFAxyc27GXpf02</td>\n",
       "      <td>Taylor Swift</td>\n",
       "      <td>100</td>\n",
       "      <td>spotify:artist:06HL4z0CvFAxyc27GXpf02</td>\n",
       "    </tr>\n",
       "    <tr>\n",
       "      <th>4</th>\n",
       "      <td>https://open.spotify.com/artist/7Ln80lUS6He07X...</td>\n",
       "      <td>25991892</td>\n",
       "      <td>garage rock, modern rock, permanent wave, rock...</td>\n",
       "      <td>7Ln80lUS6He07XvHI8qqHH</td>\n",
       "      <td>Arctic Monkeys</td>\n",
       "      <td>85</td>\n",
       "      <td>spotify:artist:7Ln80lUS6He07XvHI8qqHH</td>\n",
       "    </tr>\n",
       "    <tr>\n",
       "      <th>...</th>\n",
       "      <td>...</td>\n",
       "      <td>...</td>\n",
       "      <td>...</td>\n",
       "      <td>...</td>\n",
       "      <td>...</td>\n",
       "      <td>...</td>\n",
       "      <td>...</td>\n",
       "    </tr>\n",
       "    <tr>\n",
       "      <th>20486</th>\n",
       "      <td>https://open.spotify.com/artist/3xx17YXYvPl9PB...</td>\n",
       "      <td>56415</td>\n",
       "      <td>contemporary vocal jazz, ectofolk, folk, lilith</td>\n",
       "      <td>3xx17YXYvPl9PBx6Jzalk4</td>\n",
       "      <td>Shelby Lynne</td>\n",
       "      <td>48</td>\n",
       "      <td>spotify:artist:3xx17YXYvPl9PBx6Jzalk4</td>\n",
       "    </tr>\n",
       "    <tr>\n",
       "      <th>20487</th>\n",
       "      <td>https://open.spotify.com/artist/3jvWpZJpokYCoT...</td>\n",
       "      <td>35290</td>\n",
       "      <td>alternative emo, emo, midwest emo</td>\n",
       "      <td>3jvWpZJpokYCoT0QV4OJg0</td>\n",
       "      <td>You Blew It!</td>\n",
       "      <td>33</td>\n",
       "      <td>spotify:artist:3jvWpZJpokYCoT0QV4OJg0</td>\n",
       "    </tr>\n",
       "    <tr>\n",
       "      <th>20488</th>\n",
       "      <td>https://open.spotify.com/artist/53HxKgLPRmkmUq...</td>\n",
       "      <td>72</td>\n",
       "      <td>NaN</td>\n",
       "      <td>53HxKgLPRmkmUqzOv7qVL3</td>\n",
       "      <td>Z</td>\n",
       "      <td>0</td>\n",
       "      <td>spotify:artist:53HxKgLPRmkmUqzOv7qVL3</td>\n",
       "    </tr>\n",
       "    <tr>\n",
       "      <th>20489</th>\n",
       "      <td>https://open.spotify.com/artist/0SYlWdOsemdRbG...</td>\n",
       "      <td>0</td>\n",
       "      <td>NaN</td>\n",
       "      <td>0SYlWdOsemdRbGNNU6FF3h</td>\n",
       "      <td>Z</td>\n",
       "      <td>0</td>\n",
       "      <td>spotify:artist:0SYlWdOsemdRbGNNU6FF3h</td>\n",
       "    </tr>\n",
       "    <tr>\n",
       "      <th>20490</th>\n",
       "      <td>https://open.spotify.com/artist/3YZb2aI52lJJK9...</td>\n",
       "      <td>9343</td>\n",
       "      <td>chillsynth, synthwave</td>\n",
       "      <td>3YZb2aI52lJJK9ektquNK7</td>\n",
       "      <td>Zane Alexander</td>\n",
       "      <td>31</td>\n",
       "      <td>spotify:artist:3YZb2aI52lJJK9ektquNK7</td>\n",
       "    </tr>\n",
       "  </tbody>\n",
       "</table>\n",
       "<p>20491 rows × 7 columns</p>\n",
       "</div>"
      ],
      "text/plain": [
       "                                           external_urls  followers  \\\n",
       "0      https://open.spotify.com/artist/4dpARuHxo51G3z...   57657211   \n",
       "1      https://open.spotify.com/artist/66CXWjxzNUsdJx...   98814719   \n",
       "2      https://open.spotify.com/artist/13ubrt8QOOCPlj...   14722549   \n",
       "3      https://open.spotify.com/artist/06HL4z0CvFAxyc...  118971229   \n",
       "4      https://open.spotify.com/artist/7Ln80lUS6He07X...   25991892   \n",
       "...                                                  ...        ...   \n",
       "20486  https://open.spotify.com/artist/3xx17YXYvPl9PB...      56415   \n",
       "20487  https://open.spotify.com/artist/3jvWpZJpokYCoT...      35290   \n",
       "20488  https://open.spotify.com/artist/53HxKgLPRmkmUq...         72   \n",
       "20489  https://open.spotify.com/artist/0SYlWdOsemdRbG...          0   \n",
       "20490  https://open.spotify.com/artist/3YZb2aI52lJJK9...       9343   \n",
       "\n",
       "                                                  genres  \\\n",
       "0                    british soul, pop, pop soul, uk pop   \n",
       "1                                                    pop   \n",
       "2                       east coast hip hop, hip hop, rap   \n",
       "3                                                    pop   \n",
       "4      garage rock, modern rock, permanent wave, rock...   \n",
       "...                                                  ...   \n",
       "20486    contemporary vocal jazz, ectofolk, folk, lilith   \n",
       "20487                  alternative emo, emo, midwest emo   \n",
       "20488                                                NaN   \n",
       "20489                                                NaN   \n",
       "20490                              chillsynth, synthwave   \n",
       "\n",
       "                           id            name  popularity  \\\n",
       "0      4dpARuHxo51G3z768sgnrY           Adele          86   \n",
       "1      66CXWjxzNUsdJxJ2JdwvnR   Ariana Grande          91   \n",
       "2      13ubrt8QOOCPljQ2FL1Kca      A$AP Rocky          84   \n",
       "3      06HL4z0CvFAxyc27GXpf02    Taylor Swift         100   \n",
       "4      7Ln80lUS6He07XvHI8qqHH  Arctic Monkeys          85   \n",
       "...                       ...             ...         ...   \n",
       "20486  3xx17YXYvPl9PBx6Jzalk4    Shelby Lynne          48   \n",
       "20487  3jvWpZJpokYCoT0QV4OJg0    You Blew It!          33   \n",
       "20488  53HxKgLPRmkmUqzOv7qVL3               Z           0   \n",
       "20489  0SYlWdOsemdRbGNNU6FF3h               Z           0   \n",
       "20490  3YZb2aI52lJJK9ektquNK7  Zane Alexander          31   \n",
       "\n",
       "                                         uri  \n",
       "0      spotify:artist:4dpARuHxo51G3z768sgnrY  \n",
       "1      spotify:artist:66CXWjxzNUsdJxJ2JdwvnR  \n",
       "2      spotify:artist:13ubrt8QOOCPljQ2FL1Kca  \n",
       "3      spotify:artist:06HL4z0CvFAxyc27GXpf02  \n",
       "4      spotify:artist:7Ln80lUS6He07XvHI8qqHH  \n",
       "...                                      ...  \n",
       "20486  spotify:artist:3xx17YXYvPl9PBx6Jzalk4  \n",
       "20487  spotify:artist:3jvWpZJpokYCoT0QV4OJg0  \n",
       "20488  spotify:artist:53HxKgLPRmkmUqzOv7qVL3  \n",
       "20489  spotify:artist:0SYlWdOsemdRbGNNU6FF3h  \n",
       "20490  spotify:artist:3YZb2aI52lJJK9ektquNK7  \n",
       "\n",
       "[20491 rows x 7 columns]"
      ]
     },
     "execution_count": 2,
     "metadata": {},
     "output_type": "execute_result"
    }
   ],
   "source": [
    "df = pd.read_csv('../data/spotify_artists/spotify_artists.csv') # without popularity filter\n",
    "df"
   ]
  },
  {
   "cell_type": "code",
   "execution_count": 3,
   "metadata": {},
   "outputs": [],
   "source": [
    "artists_ids = {}\n",
    "for i in range(len(df)):\n",
    "    artists_ids[df['id'][i]] = df['name'][i]"
   ]
  },
  {
   "cell_type": "code",
   "execution_count": 4,
   "metadata": {},
   "outputs": [],
   "source": [
    "teste = {}\n",
    "for i in range(len(df)):\n",
    "    teste[df['name'][i]] = df['id'][i]"
   ]
  },
  {
   "cell_type": "markdown",
   "metadata": {},
   "source": [
    "### CREATE EDGES AND NODES"
   ]
  },
  {
   "cell_type": "markdown",
   "metadata": {},
   "source": [
    "Edges structure: (artist_id, artist_genre, artist_popularity)"
   ]
  },
  {
   "cell_type": "code",
   "execution_count": 5,
   "metadata": {},
   "outputs": [],
   "source": [
    "edges = []\n",
    "for i in range(len(df)):\n",
    "    if type(df['genres'][i]) != float: # it means that the genre is not NaN\n",
    "        genres_artist = [item.strip() for item in df['genres'][i].split(',')]\n",
    "        for g in genres_artist:\n",
    "            edge = (df['id'][i], g, df['popularity'][i])\n",
    "            edges.append(edge)"
   ]
  },
  {
   "cell_type": "markdown",
   "metadata": {},
   "source": [
    "Two types of nodes: artists and genres. Each artist is connected to every genre they have produced."
   ]
  },
  {
   "cell_type": "code",
   "execution_count": 6,
   "metadata": {},
   "outputs": [],
   "source": [
    "artists_nodes = list(df['id'])\n",
    "genres_nodes = set([item.strip() for sublist in df['genres'].dropna().apply(lambda x: x.split(',')) for item in sublist])"
   ]
  },
  {
   "cell_type": "markdown",
   "metadata": {},
   "source": [
    "### CREATE GRAPH"
   ]
  },
  {
   "cell_type": "code",
   "execution_count": 7,
   "metadata": {},
   "outputs": [],
   "source": [
    "from bipartiteGraph import BipartiteGraph\n",
    "\n",
    "G = BipartiteGraph()\n",
    "G.add_nodes(artists_nodes, genres_nodes)\n",
    "G.add_edges(edges)"
   ]
  },
  {
   "cell_type": "markdown",
   "metadata": {},
   "source": [
    "### POPULARITY RECOMMENDER"
   ]
  },
  {
   "cell_type": "code",
   "execution_count": 8,
   "metadata": {},
   "outputs": [
    {
     "data": {
      "text/plain": [
       "'1dfeR4HaWDbWqFHLkxsg1d'"
      ]
     },
     "execution_count": 8,
     "metadata": {},
     "output_type": "execute_result"
    }
   ],
   "source": [
    "teste['Queen']"
   ]
  },
  {
   "cell_type": "code",
   "execution_count": 9,
   "metadata": {},
   "outputs": [],
   "source": [
    "artist_id = '1dfeR4HaWDbWqFHLkxsg1d'"
   ]
  },
  {
   "cell_type": "code",
   "execution_count": 10,
   "metadata": {},
   "outputs": [],
   "source": [
    "from popularityRecommender import PopularityRecommender\n",
    "\n",
    "number_recommendations = 20\n",
    "recommender = PopularityRecommender(G, number_recommendations)"
   ]
  },
  {
   "cell_type": "code",
   "execution_count": 11,
   "metadata": {},
   "outputs": [
    {
     "name": "stdout",
     "output_type": "stream",
     "text": [
      "['classic rock', 'glam rock', 'rock']\n",
      "recommended artists based on Queen:\n",
      "1: Imagine Dragons - 88\n",
      "2: Linkin Park - 86\n",
      "3: The Beatles - 85\n",
      "4: Arctic Monkeys - 85\n",
      "5: AC/DC - 83\n",
      "6: Metallica - 83\n",
      "7: Elton John - 83\n",
      "8: Fleetwood Mac - 82\n",
      "9: Creedence Clearwater Revival - 82\n",
      "10: The Rolling Stones - 79\n",
      "11: Billy Joel - 78\n",
      "12: Pink Floyd - 78\n",
      "13: David Bowie - 77\n",
      "14: KISS - 72\n",
      "15: Electric Light Orchestra - 72\n",
      "16: Supertramp - 70\n",
      "17: The Kinks - 65\n",
      "18: Wig Wam - 43\n",
      "19: Gregg Allman - 42\n",
      "20: Iron Butterfly - 41\n"
     ]
    }
   ],
   "source": [
    "recommender.recommend_based_on_popularity(artist_id)\n",
    "recommender.convert_recommendations(artist_id, artists_ids)"
   ]
  },
  {
   "cell_type": "code",
   "execution_count": 12,
   "metadata": {},
   "outputs": [
    {
     "data": {
      "text/plain": [
       "'4M1FpEWs2PeYfJe7xxJfhH'"
      ]
     },
     "execution_count": 12,
     "metadata": {},
     "output_type": "execute_result"
    }
   ],
   "source": [
    "teste['Freddie Mercury']"
   ]
  }
 ],
 "metadata": {
  "kernelspec": {
   "display_name": "Python 3",
   "language": "python",
   "name": "python3"
  },
  "language_info": {
   "codemirror_mode": {
    "name": "ipython",
    "version": 3
   },
   "file_extension": ".py",
   "mimetype": "text/x-python",
   "name": "python",
   "nbconvert_exporter": "python",
   "pygments_lexer": "ipython3",
   "version": "3.10.12"
  }
 },
 "nbformat": 4,
 "nbformat_minor": 2
}
